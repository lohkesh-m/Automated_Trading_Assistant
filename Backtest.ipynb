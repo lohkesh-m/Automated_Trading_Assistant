{
 "cells": [
  {
   "cell_type": "code",
   "execution_count": 15,
   "id": "8c612a24",
   "metadata": {},
   "outputs": [],
   "source": [
    "import pandas as pd\n",
    "import numpy as np\n",
    "import ta"
   ]
  },
  {
   "cell_type": "markdown",
   "id": "2d12ba0c",
   "metadata": {},
   "source": [
    "# Single Candlestick Patterns Functions"
   ]
  },
  {
   "cell_type": "code",
   "execution_count": 16,
   "id": "f04430bd",
   "metadata": {},
   "outputs": [],
   "source": [
    "def Check_Marubozu(Shadow_u,Shadow_l,Open,Close):\n",
    "    State=0\n",
    "    if Shadow_u<0.1 and Shadow_l<0.1:\n",
    "        if Open<Close:\n",
    "            State=1\n",
    "        else:\n",
    "            State=-1\n",
    "    return State"
   ]
  },
  {
   "cell_type": "code",
   "execution_count": 17,
   "id": "5625ddb1",
   "metadata": {},
   "outputs": [],
   "source": [
    "def Check_doji(Shadow_u,Shadow_l):\n",
    "    if Shadow_u >4 and Shadow_l>4:\n",
    "        return \"Doji Yes\"\n",
    "    else:\n",
    "        return \"Doji No\""
   ]
  },
  {
   "cell_type": "code",
   "execution_count": 18,
   "id": "c4eff2f3",
   "metadata": {},
   "outputs": [],
   "source": [
    "def Check_SCP(Open,High,Low,Close,A):\n",
    "    if Open<Close:\n",
    "        Shadow_u=(High-Close)/(Close-Open)\n",
    "        Shadow_l=(Open-Low)/(Close-Open)\n",
    "    else :\n",
    "        Shadow_u=(High-Open)/(Open-Close+1)\n",
    "        Shadow_l=(Close-Low)/(Open-Close+1)\n",
    "    A.append(Check_Marubozu(Shadow_u,Shadow_l,Open,Close))\n",
    "    \n",
    "    #A.append(Check_doji(Shadow_u,Shadow_l))\n",
    "    return A"
   ]
  },
  {
   "cell_type": "markdown",
   "id": "e4b7d762",
   "metadata": {},
   "source": [
    "# Indicator Functions"
   ]
  },
  {
   "cell_type": "code",
   "execution_count": 19,
   "id": "af676f87",
   "metadata": {},
   "outputs": [],
   "source": [
    "def Check_RSI(Open,High,Low,Close,UpperBound,LowerBound):\n",
    "    \n",
    "    RSI=ta.momentum.RSIIndicator(Close).rsi()\n",
    "    Rsi_Check=RSI.iloc[-4:-1]\n",
    "    State=0\n",
    "    for i in Rsi_Check:\n",
    "        if i >= UpperBound:\n",
    "            State=-1\n",
    "        elif i <= LowerBound:\n",
    "            State=+1\n",
    "    \n",
    "    return State"
   ]
  },
  {
   "cell_type": "code",
   "execution_count": 20,
   "id": "46f0f057",
   "metadata": {},
   "outputs": [],
   "source": [
    "def Check_MACD_Cross(Open,High,Low,Close):\n",
    "    MACD=ta.trend.MACD(Close).macd()\n",
    "    State=0\n",
    "    if MACD.iloc[-1]>=0:\n",
    "        if MACD.iloc[-2]<0:\n",
    "            State= 1\n",
    "    elif MACD.iloc[-1]<=0:\n",
    "        if MACD.iloc[-2]>0:\n",
    "            State= -1\n",
    "\n",
    "    return State"
   ]
  },
  {
   "cell_type": "code",
   "execution_count": 21,
   "id": "591e5b46",
   "metadata": {},
   "outputs": [],
   "source": [
    "def Check_MACD_Invert(Open,High,Low,Close):\n",
    "    MACD=ta.trend.MACD(Close).macd()\n",
    "    MACD=MACD[-7:].tolist()\n",
    "    State=0\n",
    "    if MACD[-1]!=max(MACD) and MACD[-1]!=min(MACD):\n",
    "        if MACD[-2]-MACD[-1]>0:\n",
    "            State=1\n",
    "        else :\n",
    "            State= -1\n",
    "    return State"
   ]
  },
  {
   "cell_type": "code",
   "execution_count": 22,
   "id": "09fd7527",
   "metadata": {},
   "outputs": [],
   "source": [
    "def Check_BollingerBands(Open,High,Low,Close):\n",
    "    State = 0\n",
    "    State = -1*max(ta.volatility.bollinger_hband_indicator(Close).iloc[-1],0)\n",
    "   \n",
    "    if State==0:\n",
    "        State=max(ta.volatility.bollinger_lband_indicator(Close).iloc[-1],0)\n",
    "\n",
    "    return State"
   ]
  },
  {
   "cell_type": "code",
   "execution_count": 23,
   "id": "50cb83aa",
   "metadata": {},
   "outputs": [],
   "source": [
    "def Check_Volume(Volume):\n",
    "    VEMA=ta.trend.ema_indicator(Volume,20)\n",
    "    if Volume.iloc[-1]>VEMA.iloc[-1]:\n",
    "        return \"Volume Yes\"\n",
    "    else :\n",
    "        return \"Volume No\""
   ]
  },
  {
   "cell_type": "code",
   "execution_count": 24,
   "id": "b1106acd",
   "metadata": {},
   "outputs": [],
   "source": [
    "def Check_Indicators(Open,High,Low,Close,Volume,A):\n",
    "    #Check RSI\n",
    "    A.append(Check_RSI(Open,High,Low,Close,80,20))\n",
    "    A.append(Check_RSI(Open,High,Low,Close,70,30))\n",
    "    \n",
    "    #Check MACD\n",
    "    A.append(Check_MACD_Cross(Open,High,Low,Close))\n",
    "    A.append(Check_MACD_Invert(Open,High,Low,Close))\n",
    "    #Check Boollinger Bands\n",
    "    A.append(Check_BollingerBands(Open,High,Low,Close))\n",
    "    \n",
    "    #A.append(Check_Volume(Volume))\n",
    "    \n",
    "    return A"
   ]
  },
  {
   "cell_type": "markdown",
   "id": "b48b9ad5",
   "metadata": {},
   "source": [
    "# Backtest Function"
   ]
  },
  {
   "cell_type": "code",
   "execution_count": null,
   "id": "846e6513",
   "metadata": {
    "scrolled": true
   },
   "outputs": [
    {
     "name": "stdout",
     "output_type": "stream",
     "text": [
      "Iterating Stock ADANIPORTS.NS\n",
      "Iterating Stock ASIANPAINT.NS\n",
      "Iterating Stock AXISBANK.NS\n",
      "Iterating Stock BAJAJ-AUTO.NS\n",
      "Iterating Stock BAJFINANCE.NS\n",
      "Iterating Stock BAJAJFINSV.NS\n",
      "Iterating Stock BPCL.NS\n",
      "Iterating Stock BHARTIARTL.NS\n",
      "Iterating Stock BRITANNIA.NS\n"
     ]
    }
   ],
   "source": [
    "TechnicalAnalysis=pd.DataFrame([],columns=['Name','Marubozu','RSI Low Risk','RSI High Risk','MACD Cross','MACD Invert','Bollinger Bands'])\n",
    "Backtest_Success={'Marubozu':0,'RSI Low Risk':0,'RSI High Risk':0,'MACD Cross':0,'MACD Invert':0,'Bollinger Bands':0}\n",
    "Backtest_Total={'Marubozu':0,'RSI Low Risk':0,'RSI High Risk':0,'MACD Cross':0,'MACD Invert':0,'Bollinger Bands':0}\n",
    "\n",
    "Watchlist_tickers=pd.read_csv('Data/Watchlist_yahoo_tickers.csv')\n",
    "Watchlist_list=Watchlist_tickers[\"Tickers\"]\n",
    "\n",
    "takeprofit=0.03\n",
    "stoploss=0.03\n",
    "\n",
    "for name in Watchlist_list:\n",
    "    print(f'Iterating Stock {name}')\n",
    "    df = pd.read_excel('Data\\Backtest_Data.xlsx',sheet_name= name )\n",
    "    df.fillna(0)\n",
    "    n=df.shape[0]-5\n",
    "    for i in range(40,n):\n",
    "\n",
    "        A=[]\n",
    "        #Checking with patters\n",
    "        Open=df[\"Open\"].iloc[i]\n",
    "        High=df[\"High\"].iloc[i]\n",
    "        Low=df[\"Low\"].iloc[i]\n",
    "        Close=df[\"Close\"].iloc[i]\n",
    "        Check_SCP(Open,High,Low,Close,A)\n",
    "        #Checking with indicators\n",
    "        Open=df[\"Open\"].iloc[0:i]\n",
    "        High=df[\"High\"].iloc[0:i]\n",
    "        Low=df[\"Low\"].iloc[0:i]\n",
    "        Close=df[\"Close\"].iloc[0:i]\n",
    "        Volume=df[\"Volume\"].iloc[0:i]\n",
    "        Check_Indicators(Open,High,Low,Close,Volume,A)\n",
    "        \n",
    "        #stoploss calculations\n",
    "        k=0\n",
    "        for j in A:\n",
    "            slhit=False\n",
    "            tphit=False\n",
    "            if j==1:\n",
    "                maxHigh=max(df['High'].iloc[i:i+4])\n",
    "                minLow= min(df['Low'].iloc[i:i+4])\n",
    "                Upside=(maxHigh-df[\"Close\"].iloc[i])/df[\"Close\"].iloc[i]\n",
    "                Downside=(df[\"Close\"].iloc[i]-minLow)/df[\"Close\"].iloc[i]\n",
    "                if Upside>=takeprofit:\n",
    "                    tphit=True\n",
    "                if Downside>=stoploss:\n",
    "                    slhit=True\n",
    "                if  tphit==True:    \n",
    "                    Backtest_Success[list(Backtest_Success.keys())[k]]+=1\n",
    "                Backtest_Total[list(Backtest_Success.keys())[k]]+=1\n",
    "            k=k+1\n",
    "\n",
    "print(Backtest_Success)\n",
    "\n",
    "                      "
   ]
  },
  {
   "cell_type": "code",
   "execution_count": null,
   "id": "d8df0d31",
   "metadata": {},
   "outputs": [],
   "source": [
    "print(Backtest_Success)"
   ]
  },
  {
   "cell_type": "code",
   "execution_count": null,
   "id": "b97f9a2e",
   "metadata": {},
   "outputs": [],
   "source": []
  }
 ],
 "metadata": {
  "kernelspec": {
   "display_name": "Python 3",
   "language": "python",
   "name": "python3"
  },
  "language_info": {
   "codemirror_mode": {
    "name": "ipython",
    "version": 3
   },
   "file_extension": ".py",
   "mimetype": "text/x-python",
   "name": "python",
   "nbconvert_exporter": "python",
   "pygments_lexer": "ipython3",
   "version": "3.8.8"
  }
 },
 "nbformat": 4,
 "nbformat_minor": 5
}
