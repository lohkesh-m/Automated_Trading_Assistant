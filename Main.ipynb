{
 "cells": [
  {
   "cell_type": "code",
   "execution_count": 15,
   "id": "dc743009",
   "metadata": {},
   "outputs": [],
   "source": [
    "import pandas as pd\n",
    "import numpy as np\n",
    "import ta"
   ]
  },
  {
   "cell_type": "markdown",
   "id": "7dffcd3a",
   "metadata": {},
   "source": [
    "# Single CandleStick Patterns"
   ]
  },
  {
   "cell_type": "code",
   "execution_count": 30,
   "id": "208213d7",
   "metadata": {},
   "outputs": [],
   "source": [
    "def Check_Marubozu(Shadow_u,Shadow_l,Open,Close):\n",
    "    State=0\n",
    "    if Shadow_u<0.1 and Shadow_l<0.1:\n",
    "        if Open<Close:\n",
    "            State=1\n",
    "        else:\n",
    "            State=-1\n",
    "    return State"
   ]
  },
  {
   "cell_type": "code",
   "execution_count": 31,
   "id": "4fc46409",
   "metadata": {},
   "outputs": [],
   "source": [
    "def Check_doji(Shadow_u,Shadow_l):\n",
    "    if Shadow_u >4 and Shadow_l>4:\n",
    "        return \"Doji Yes\"\n",
    "    else:\n",
    "        return \"Doji No\""
   ]
  },
  {
   "cell_type": "code",
   "execution_count": 32,
   "id": "9e76e4d4",
   "metadata": {},
   "outputs": [],
   "source": [
    "def Check_SCP(Open,High,Low,Close,A):\n",
    "    if Open<Close:\n",
    "        Shadow_u=(High-Close)/(Close-Open)\n",
    "        Shadow_l=(Open-Low)/(Close-Open)\n",
    "    else :\n",
    "        Shadow_u=(High-Open)/(Open-Close+1)\n",
    "        Shadow_l=(Close-Low)/(Open-Close+1)\n",
    "    A.append(Check_Marubozu(Shadow_u,Shadow_l,Open,Close))\n",
    "    \n",
    "    A.append(Check_doji(Shadow_u,Shadow_l))\n",
    "    return A"
   ]
  },
  {
   "cell_type": "markdown",
   "id": "ad10571f",
   "metadata": {},
   "source": [
    "# Indicator Functions"
   ]
  },
  {
   "cell_type": "code",
   "execution_count": 16,
   "id": "907024f5",
   "metadata": {},
   "outputs": [],
   "source": [
    "def Check_RSI(Open,High,Low,Close,UpperBound,LowerBound):\n",
    "    \n",
    "    RSI=ta.momentum.RSIIndicator(Close).rsi()\n",
    "    Rsi_Check=RSI.iloc[-4:-1]\n",
    "    State=0\n",
    "    for i in Rsi_Check:\n",
    "        if i >= UpperBound:\n",
    "            State=-1\n",
    "        elif i <= LowerBound:\n",
    "            State=+1\n",
    "    \n",
    "    return State"
   ]
  },
  {
   "cell_type": "code",
   "execution_count": 17,
   "id": "0ed9a011",
   "metadata": {},
   "outputs": [],
   "source": [
    "def Check_MACD_Cross(Open,High,Low,Close):\n",
    "    MACD=ta.trend.MACD(Close).macd()\n",
    "    State=0\n",
    "    if MACD.iloc[-1]>=0:\n",
    "        if MACD.iloc[-2]<0:\n",
    "            State= 1\n",
    "    elif MACD.iloc[-1]<=0:\n",
    "        if MACD.iloc[-2]>0:\n",
    "            State= -1\n",
    "\n",
    "    return State"
   ]
  },
  {
   "cell_type": "code",
   "execution_count": 18,
   "id": "2bf55cc7",
   "metadata": {},
   "outputs": [],
   "source": [
    "def Check_MACD_Invert(Open,High,Low,Close):\n",
    "    MACD=ta.trend.MACD(Close).macd()\n",
    "    MACD=MACD[-7:].tolist()\n",
    "    State=0\n",
    "    if MACD[-1]!=max(MACD) and MACD[-1]!=min(MACD):\n",
    "        if MACD[-2]-MACD[-1]>0:\n",
    "            State=1\n",
    "        else :\n",
    "            State= -1\n",
    "    return State"
   ]
  },
  {
   "cell_type": "code",
   "execution_count": 40,
   "id": "746bf4eb",
   "metadata": {},
   "outputs": [],
   "source": [
    "def Check_BollingerBands(Open,High,Low,Close):\n",
    "    State = 0\n",
    "    State = -1*max(ta.volatility.bollinger_hband_indicator(Close).iloc[-1],0)\n",
    "   \n",
    "    if State==0:\n",
    "        State=max(ta.volatility.bollinger_lband_indicator(Close).iloc[-1],0)\n",
    "\n",
    "    return int(State)"
   ]
  },
  {
   "cell_type": "code",
   "execution_count": 20,
   "id": "50a675ff",
   "metadata": {},
   "outputs": [],
   "source": [
    "def Check_Volume(Volume):\n",
    "    VEMA=ta.trend.ema_indicator(Volume,20)\n",
    "    if Volume.iloc[-1]>VEMA.iloc[-1]:\n",
    "        return \"Volume Yes\"\n",
    "    else :\n",
    "        return \"Volume No\""
   ]
  },
  {
   "cell_type": "code",
   "execution_count": 26,
   "id": "6c83dc80",
   "metadata": {},
   "outputs": [],
   "source": [
    "def Check_Indicators(Open,High,Low,Close,Volume,A,):\n",
    "    #Check RSI\n",
    "    A.append(Check_RSI(Open,High,Low,Close,80,20))\n",
    "    A.append(Check_RSI(Open,High,Low,Close,70,30))\n",
    "    \n",
    "    #Check MACD\n",
    "    A.append(Check_MACD_Cross(Open,High,Low,Close))\n",
    "    A.append(Check_MACD_Invert(Open,High,Low,Close))\n",
    "    #Check Boollinger Bands\n",
    "    A.append(Check_BollingerBands(Open,High,Low,Close))\n",
    "    \n",
    "    A.append(Check_Volume(Volume))\n",
    "    \n",
    "    return A"
   ]
  },
  {
   "cell_type": "markdown",
   "id": "d2800150",
   "metadata": {},
   "source": [
    "# Main Function"
   ]
  },
  {
   "cell_type": "code",
   "execution_count": 41,
   "id": "154b1a3b",
   "metadata": {},
   "outputs": [
    {
     "name": "stdout",
     "output_type": "stream",
     "text": [
      "             Name Marubozu     Doji RSI Low Risk RSI High Risk MACD Cross  \\\n",
      "0   ADANIPORTS.NS        0  Doji No            0            -1          0   \n",
      "1   ASIANPAINT.NS        0  Doji No           -1            -1          0   \n",
      "2     AXISBANK.NS        0  Doji No            0            -1          0   \n",
      "3   BAJAJ-AUTO.NS        0  Doji No            0             0          0   \n",
      "4   BAJFINANCE.NS        0  Doji No            0            -1          0   \n",
      "..            ...      ...      ...          ...           ...        ...   \n",
      "94        SAIL.NS        0  Doji No            0            -1          0   \n",
      "95  TORNTPHARM.NS        0  Doji No            0             0          0   \n",
      "96  MCDOWELL-N.NS        0  Doji No            0             0          0   \n",
      "97        VEDL.NS        0  Doji No            0             0          0   \n",
      "98     YESBANK.NS        0  Doji No            0             0          0   \n",
      "\n",
      "   MACD Invert Bollinger Bands      Volume Total  \n",
      "0            0              -1  Volume Yes    -4  \n",
      "1            0               0   Volume No  -1.0  \n",
      "2            1               0   Volume No   0.0  \n",
      "3            1               0   Volume No   0.5  \n",
      "4            0               0   Volume No  -0.5  \n",
      "..         ...             ...         ...   ...  \n",
      "94           1               0   Volume No   0.0  \n",
      "95           0               0   Volume No   0.0  \n",
      "96           1               0   Volume No   0.5  \n",
      "97           1               0   Volume No   0.5  \n",
      "98          -1               0  Volume Yes    -2  \n",
      "\n",
      "[99 rows x 10 columns]\n"
     ]
    }
   ],
   "source": [
    "Watchlist_tickers=pd.read_csv('Data/Watchlist_yahoo_tickers.csv')\n",
    "Watchlist_list=Watchlist_tickers[\"Tickers\"]\n",
    "TechnicalAnalysis=pd.DataFrame([],columns=['Name','Marubozu','Doji','RSI Low Risk','RSI High Risk','MACD Cross','MACD Invert','Bollinger Bands','Volume','Total'])\n",
    "for i in Watchlist_list:\n",
    "    A=[]\n",
    "    A.append(i)\n",
    "    try:\n",
    "        df = pd.read_excel('Data/Historical_data.xlsx',sheet_name=i)\n",
    "    except:\n",
    "        print(f'{i} not Found')\n",
    "    \n",
    "    #Checking for Single Candlestick Patterns\n",
    "    Open=df.iloc[-1][\"Open\"]\n",
    "    High=df.iloc[-1][\"High\"]\n",
    "    Low=df.iloc[-1][\"Low\"]\n",
    "    Close=df.iloc[-1][\"Close\"]\n",
    "    Check_SCP(Open,High,Low,Close,A)\n",
    "    \n",
    "    #Checking with indicators\n",
    "    Open=df[\"Open\"]\n",
    "    High=df[\"High\"]\n",
    "    Low=df[\"Low\"]\n",
    "    Close=df[\"Close\"]\n",
    "    Volume=df[\"Volume\"]\n",
    "    Check_Indicators(Open,High,Low,Close,Volume,A)\n",
    "    #Finding Conclusions\n",
    "    sum=0\n",
    "    multiplier=1\n",
    "    for i in A:\n",
    "        if i==1 or i==-1 :\n",
    "            sum+=i\n",
    "        if i=='Volume Yes' :\n",
    "            multiplier*=2\n",
    "        if i=='Volume No' :\n",
    "            multiplier*=0.5\n",
    "        if i=='Doji Yes':\n",
    "            multiplier*=2\n",
    "    sum=sum*multiplier\n",
    "    A.append(sum)\n",
    "    #Updating the output dataframe\n",
    "    a_series = pd.Series(A, index = TechnicalAnalysis.columns)\n",
    "    TechnicalAnalysis = TechnicalAnalysis.append(a_series, ignore_index=True)\n",
    "\n",
    "print(TechnicalAnalysis)"
   ]
  },
  {
   "cell_type": "code",
   "execution_count": 39,
   "id": "41d334c8",
   "metadata": {},
   "outputs": [],
   "source": [
    "#export to Excel\n",
    "TechnicalAnalysis.to_excel(\"Data\\LongShortOpportunites.xlsx\",sheet_name='Equities')"
   ]
  },
  {
   "cell_type": "code",
   "execution_count": null,
   "id": "a8e3e249",
   "metadata": {},
   "outputs": [],
   "source": []
  }
 ],
 "metadata": {
  "kernelspec": {
   "display_name": "Python 3",
   "language": "python",
   "name": "python3"
  },
  "language_info": {
   "codemirror_mode": {
    "name": "ipython",
    "version": 3
   },
   "file_extension": ".py",
   "mimetype": "text/x-python",
   "name": "python",
   "nbconvert_exporter": "python",
   "pygments_lexer": "ipython3",
   "version": "3.8.8"
  }
 },
 "nbformat": 4,
 "nbformat_minor": 5
}
