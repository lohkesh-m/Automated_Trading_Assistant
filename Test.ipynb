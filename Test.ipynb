{
 "cells": [
  {
   "cell_type": "code",
   "execution_count": 2,
   "id": "1d13e3a5",
   "metadata": {},
   "outputs": [],
   "source": [
    "import pandas as pd\n",
    "import numpy as np\n",
    "import ta\n",
    "import matplotlib.pyplot as plt\n",
    "%matplotlib inline"
   ]
  },
  {
   "cell_type": "code",
   "execution_count": 3,
   "id": "a0a8bd90",
   "metadata": {},
   "outputs": [],
   "source": [
    "df = pd.read_excel('Data\\Historical_Data.xlsx',sheet_name='ICICIGI.NS')"
   ]
  },
  {
   "cell_type": "code",
   "execution_count": 4,
   "id": "3891d600",
   "metadata": {},
   "outputs": [
    {
     "data": {
      "text/html": [
       "<div>\n",
       "<style scoped>\n",
       "    .dataframe tbody tr th:only-of-type {\n",
       "        vertical-align: middle;\n",
       "    }\n",
       "\n",
       "    .dataframe tbody tr th {\n",
       "        vertical-align: top;\n",
       "    }\n",
       "\n",
       "    .dataframe thead th {\n",
       "        text-align: right;\n",
       "    }\n",
       "</style>\n",
       "<table border=\"1\" class=\"dataframe\">\n",
       "  <thead>\n",
       "    <tr style=\"text-align: right;\">\n",
       "      <th></th>\n",
       "      <th>Date</th>\n",
       "      <th>High</th>\n",
       "      <th>Low</th>\n",
       "      <th>Open</th>\n",
       "      <th>Close</th>\n",
       "      <th>Volume</th>\n",
       "      <th>Adj Close</th>\n",
       "    </tr>\n",
       "  </thead>\n",
       "  <tbody>\n",
       "    <tr>\n",
       "      <th>244</th>\n",
       "      <td>2022-08-12</td>\n",
       "      <td>1244.000000</td>\n",
       "      <td>1225.250000</td>\n",
       "      <td>1244.00</td>\n",
       "      <td>1237.849976</td>\n",
       "      <td>659145</td>\n",
       "      <td>1237.849976</td>\n",
       "    </tr>\n",
       "    <tr>\n",
       "      <th>245</th>\n",
       "      <td>2022-08-16</td>\n",
       "      <td>1302.000000</td>\n",
       "      <td>1240.050049</td>\n",
       "      <td>1243.00</td>\n",
       "      <td>1296.000000</td>\n",
       "      <td>709618</td>\n",
       "      <td>1296.000000</td>\n",
       "    </tr>\n",
       "    <tr>\n",
       "      <th>246</th>\n",
       "      <td>2022-08-17</td>\n",
       "      <td>1369.000000</td>\n",
       "      <td>1296.050049</td>\n",
       "      <td>1298.00</td>\n",
       "      <td>1355.500000</td>\n",
       "      <td>1675014</td>\n",
       "      <td>1355.500000</td>\n",
       "    </tr>\n",
       "    <tr>\n",
       "      <th>247</th>\n",
       "      <td>2022-08-18</td>\n",
       "      <td>1362.300049</td>\n",
       "      <td>1323.099976</td>\n",
       "      <td>1355.00</td>\n",
       "      <td>1326.750000</td>\n",
       "      <td>418587</td>\n",
       "      <td>1326.750000</td>\n",
       "    </tr>\n",
       "    <tr>\n",
       "      <th>248</th>\n",
       "      <td>2022-08-19</td>\n",
       "      <td>1326.750000</td>\n",
       "      <td>1296.050049</td>\n",
       "      <td>1326.75</td>\n",
       "      <td>1298.849976</td>\n",
       "      <td>174086</td>\n",
       "      <td>1298.849976</td>\n",
       "    </tr>\n",
       "  </tbody>\n",
       "</table>\n",
       "</div>"
      ],
      "text/plain": [
       "          Date         High          Low     Open        Close   Volume  \\\n",
       "244 2022-08-12  1244.000000  1225.250000  1244.00  1237.849976   659145   \n",
       "245 2022-08-16  1302.000000  1240.050049  1243.00  1296.000000   709618   \n",
       "246 2022-08-17  1369.000000  1296.050049  1298.00  1355.500000  1675014   \n",
       "247 2022-08-18  1362.300049  1323.099976  1355.00  1326.750000   418587   \n",
       "248 2022-08-19  1326.750000  1296.050049  1326.75  1298.849976   174086   \n",
       "\n",
       "       Adj Close  \n",
       "244  1237.849976  \n",
       "245  1296.000000  \n",
       "246  1355.500000  \n",
       "247  1326.750000  \n",
       "248  1298.849976  "
      ]
     },
     "execution_count": 4,
     "metadata": {},
     "output_type": "execute_result"
    }
   ],
   "source": [
    "df.tail()"
   ]
  },
  {
   "cell_type": "code",
   "execution_count": 5,
   "id": "e1c53da4",
   "metadata": {},
   "outputs": [
    {
     "name": "stdout",
     "output_type": "stream",
     "text": [
      "[1118.400024414062, 1111.800048828125, 1120.349975585938, 1102.150024414062, 1104.0] 1102.150024414062\n"
     ]
    }
   ],
   "source": [
    "Open=df[\"Open\"]\n",
    "High=df[\"High\"]\n",
    "Low=df[\"Low\"]\n",
    "Close=df[\"Close\"]\n",
    "Volume=df[\"Volume\"]\n",
    "A=[]\n",
    "n=df.shape[0]\n",
    "sl_l=df[n-40:min(n-40+5,n)][\"Low\"].tolist()\n",
    "sl_low=min(df[n-40:min(n-40+5,n)][\"Low\"].tolist())\n",
    "print(sl_l,sl_low)"
   ]
  },
  {
   "cell_type": "code",
   "execution_count": 6,
   "id": "893967a8",
   "metadata": {},
   "outputs": [
    {
     "data": {
      "text/plain": [
       "[0,\n",
       " -1,\n",
       " 0,\n",
       " 0,\n",
       " <function __main__.Check_BollingerBands(Open, High, Low, Close)>,\n",
       " 'Volume No']"
      ]
     },
     "execution_count": 6,
     "metadata": {},
     "output_type": "execute_result"
    }
   ],
   "source": [
    "%run ./Check_Indicators.ipynb\n",
    "Check_Indicators(Open,High,Low,Close,Volume,A)"
   ]
  },
  {
   "cell_type": "code",
   "execution_count": 10,
   "id": "66996e79",
   "metadata": {},
   "outputs": [
    {
     "ename": "AttributeError",
     "evalue": "'numpy.float64' object has no attribute 'rolling'",
     "output_type": "error",
     "traceback": [
      "\u001b[1;31m---------------------------------------------------------------------------\u001b[0m",
      "\u001b[1;31mAttributeError\u001b[0m                            Traceback (most recent call last)",
      "\u001b[1;32m<ipython-input-10-87bbc0821765>\u001b[0m in \u001b[0;36m<module>\u001b[1;34m\u001b[0m\n\u001b[1;32m----> 1\u001b[1;33m \u001b[0mta\u001b[0m\u001b[1;33m.\u001b[0m\u001b[0mvolatility\u001b[0m\u001b[1;33m.\u001b[0m\u001b[0mbollinger_hband_indicator\u001b[0m\u001b[1;33m(\u001b[0m\u001b[0mClose\u001b[0m\u001b[1;33m)\u001b[0m\u001b[1;33m\u001b[0m\u001b[1;33m\u001b[0m\u001b[0m\n\u001b[0m",
      "\u001b[1;32m~\\anaconda3\\lib\\site-packages\\ta\\volatility.py\u001b[0m in \u001b[0;36mbollinger_hband_indicator\u001b[1;34m(close, window, window_dev, fillna)\u001b[0m\n\u001b[0;32m    611\u001b[0m         \u001b[0mpandas\u001b[0m\u001b[1;33m.\u001b[0m\u001b[0mSeries\u001b[0m\u001b[1;33m:\u001b[0m \u001b[0mNew\u001b[0m \u001b[0mfeature\u001b[0m \u001b[0mgenerated\u001b[0m\u001b[1;33m.\u001b[0m\u001b[1;33m\u001b[0m\u001b[1;33m\u001b[0m\u001b[0m\n\u001b[0;32m    612\u001b[0m     \"\"\"\n\u001b[1;32m--> 613\u001b[1;33m     indicator = BollingerBands(\n\u001b[0m\u001b[0;32m    614\u001b[0m         \u001b[0mclose\u001b[0m\u001b[1;33m=\u001b[0m\u001b[0mclose\u001b[0m\u001b[1;33m,\u001b[0m \u001b[0mwindow\u001b[0m\u001b[1;33m=\u001b[0m\u001b[0mwindow\u001b[0m\u001b[1;33m,\u001b[0m \u001b[0mwindow_dev\u001b[0m\u001b[1;33m=\u001b[0m\u001b[0mwindow_dev\u001b[0m\u001b[1;33m,\u001b[0m \u001b[0mfillna\u001b[0m\u001b[1;33m=\u001b[0m\u001b[0mfillna\u001b[0m\u001b[1;33m\u001b[0m\u001b[1;33m\u001b[0m\u001b[0m\n\u001b[0;32m    615\u001b[0m     )\n",
      "\u001b[1;32m~\\anaconda3\\lib\\site-packages\\ta\\volatility.py\u001b[0m in \u001b[0;36m__init__\u001b[1;34m(self, close, window, window_dev, fillna)\u001b[0m\n\u001b[0;32m     88\u001b[0m         \u001b[0mself\u001b[0m\u001b[1;33m.\u001b[0m\u001b[0m_window_dev\u001b[0m \u001b[1;33m=\u001b[0m \u001b[0mwindow_dev\u001b[0m\u001b[1;33m\u001b[0m\u001b[1;33m\u001b[0m\u001b[0m\n\u001b[0;32m     89\u001b[0m         \u001b[0mself\u001b[0m\u001b[1;33m.\u001b[0m\u001b[0m_fillna\u001b[0m \u001b[1;33m=\u001b[0m \u001b[0mfillna\u001b[0m\u001b[1;33m\u001b[0m\u001b[1;33m\u001b[0m\u001b[0m\n\u001b[1;32m---> 90\u001b[1;33m         \u001b[0mself\u001b[0m\u001b[1;33m.\u001b[0m\u001b[0m_run\u001b[0m\u001b[1;33m(\u001b[0m\u001b[1;33m)\u001b[0m\u001b[1;33m\u001b[0m\u001b[1;33m\u001b[0m\u001b[0m\n\u001b[0m\u001b[0;32m     91\u001b[0m \u001b[1;33m\u001b[0m\u001b[0m\n\u001b[0;32m     92\u001b[0m     \u001b[1;32mdef\u001b[0m \u001b[0m_run\u001b[0m\u001b[1;33m(\u001b[0m\u001b[0mself\u001b[0m\u001b[1;33m)\u001b[0m\u001b[1;33m:\u001b[0m\u001b[1;33m\u001b[0m\u001b[1;33m\u001b[0m\u001b[0m\n",
      "\u001b[1;32m~\\anaconda3\\lib\\site-packages\\ta\\volatility.py\u001b[0m in \u001b[0;36m_run\u001b[1;34m(self)\u001b[0m\n\u001b[0;32m     92\u001b[0m     \u001b[1;32mdef\u001b[0m \u001b[0m_run\u001b[0m\u001b[1;33m(\u001b[0m\u001b[0mself\u001b[0m\u001b[1;33m)\u001b[0m\u001b[1;33m:\u001b[0m\u001b[1;33m\u001b[0m\u001b[1;33m\u001b[0m\u001b[0m\n\u001b[0;32m     93\u001b[0m         \u001b[0mmin_periods\u001b[0m \u001b[1;33m=\u001b[0m \u001b[1;36m0\u001b[0m \u001b[1;32mif\u001b[0m \u001b[0mself\u001b[0m\u001b[1;33m.\u001b[0m\u001b[0m_fillna\u001b[0m \u001b[1;32melse\u001b[0m \u001b[0mself\u001b[0m\u001b[1;33m.\u001b[0m\u001b[0m_window\u001b[0m\u001b[1;33m\u001b[0m\u001b[1;33m\u001b[0m\u001b[0m\n\u001b[1;32m---> 94\u001b[1;33m         \u001b[0mself\u001b[0m\u001b[1;33m.\u001b[0m\u001b[0m_mavg\u001b[0m \u001b[1;33m=\u001b[0m \u001b[0mself\u001b[0m\u001b[1;33m.\u001b[0m\u001b[0m_close\u001b[0m\u001b[1;33m.\u001b[0m\u001b[0mrolling\u001b[0m\u001b[1;33m(\u001b[0m\u001b[0mself\u001b[0m\u001b[1;33m.\u001b[0m\u001b[0m_window\u001b[0m\u001b[1;33m,\u001b[0m \u001b[0mmin_periods\u001b[0m\u001b[1;33m=\u001b[0m\u001b[0mmin_periods\u001b[0m\u001b[1;33m)\u001b[0m\u001b[1;33m.\u001b[0m\u001b[0mmean\u001b[0m\u001b[1;33m(\u001b[0m\u001b[1;33m)\u001b[0m\u001b[1;33m\u001b[0m\u001b[1;33m\u001b[0m\u001b[0m\n\u001b[0m\u001b[0;32m     95\u001b[0m         self._mstd = self._close.rolling(self._window, min_periods=min_periods).std(\n\u001b[0;32m     96\u001b[0m             \u001b[0mddof\u001b[0m\u001b[1;33m=\u001b[0m\u001b[1;36m0\u001b[0m\u001b[1;33m\u001b[0m\u001b[1;33m\u001b[0m\u001b[0m\n",
      "\u001b[1;31mAttributeError\u001b[0m: 'numpy.float64' object has no attribute 'rolling'"
     ]
    }
   ],
   "source": []
  },
  {
   "cell_type": "code",
   "execution_count": 12,
   "id": "67252a85",
   "metadata": {},
   "outputs": [
    {
     "name": "stdout",
     "output_type": "stream",
     "text": [
      "[0, -1, 0, 0, <function Check_BollingerBands at 0x0000023D95E13EE0>, 'Volume No']\n"
     ]
    }
   ],
   "source": [
    "Open=df.iloc[-100:-1][\"Open\"]\n",
    "High=df.iloc[-100:-1][\"High\"]\n",
    "Low=df.iloc[-100:-1][\"Low\"]\n",
    "Close=df.iloc[-100:-1][\"Close\"]\n",
    "print(A)"
   ]
  },
  {
   "cell_type": "code",
   "execution_count": 15,
   "id": "900a64e7",
   "metadata": {},
   "outputs": [
    {
     "data": {
      "text/plain": [
       "1.0"
      ]
     },
     "execution_count": 15,
     "metadata": {},
     "output_type": "execute_result"
    }
   ],
   "source": [
    "ta.volatility.bollinger_hband_indicator(Close).iloc[-1]"
   ]
  },
  {
   "cell_type": "code",
   "execution_count": 9,
   "id": "8cce6919",
   "metadata": {},
   "outputs": [
    {
     "name": "stdout",
     "output_type": "stream",
     "text": [
      "[0, 0, 0, 0, 'Volume No', 0, 'Doji No', 0.0]\n"
     ]
    }
   ],
   "source": [
    "sum=0\n",
    "multiplier=1\n",
    "for i in A:\n",
    "    if (isinstance(i,int)==1) :\n",
    "        sum+=i\n",
    "    if i=='Volume Yes' :\n",
    "        multiplier*=2\n",
    "    if i=='Volume No' :\n",
    "        multiplier*=0.5\n",
    "    if i=='Doji':\n",
    "        multiplier*=2\n",
    "sum=sum*multiplier\n",
    "A.append(sum)\n",
    "print(A)"
   ]
  },
  {
   "cell_type": "code",
   "execution_count": 10,
   "id": "700c4100",
   "metadata": {},
   "outputs": [],
   "source": [
    "nifty_tickers=pd.read_csv('Nifty_yahoo_ticker.csv')"
   ]
  },
  {
   "cell_type": "code",
   "execution_count": 11,
   "id": "4b61c327",
   "metadata": {},
   "outputs": [
    {
     "name": "stdout",
     "output_type": "stream",
     "text": [
      "    Unnamed: 0                                  Company Name  \\\n",
      "0            0    Adani Ports and Special Economic Zone Ltd.   \n",
      "1            1                             Asian Paints Ltd.   \n",
      "2            2                                Axis Bank Ltd.   \n",
      "3            3                               Bajaj Auto Ltd.   \n",
      "4            4                            Bajaj Finance Ltd.   \n",
      "5            5                            Bajaj Finserv Ltd.   \n",
      "6            6             Bharat Petroleum Corporation Ltd.   \n",
      "7            7                            Bharti Airtel Ltd.   \n",
      "8            8                     Britannia Industries Ltd.   \n",
      "9            9                                    Cipla Ltd.   \n",
      "10          10                               Coal India Ltd.   \n",
      "11          11                      Divi's Laboratories Ltd.   \n",
      "12          12                 Dr. Reddy's Laboratories Ltd.   \n",
      "13          13                            Eicher Motors Ltd.   \n",
      "14          14                        Grasim Industries Ltd.   \n",
      "15          15                         HCL Technologies Ltd.   \n",
      "16          16                                HDFC Bank Ltd.   \n",
      "17          17              HDFC Life Insurance Company Ltd.   \n",
      "18          18                            Hero MotoCorp Ltd.   \n",
      "19          19                      Hindalco Industries Ltd.   \n",
      "20          20                       Hindustan Unilever Ltd.   \n",
      "21          21  Housing Development Finance Corporation Ltd.   \n",
      "22          22                               ICICI Bank Ltd.   \n",
      "23          23                                      ITC Ltd.   \n",
      "24          24                   Indian Oil Corporation Ltd.   \n",
      "25          25                            IndusInd Bank Ltd.   \n",
      "26          26                                  Infosys Ltd.   \n",
      "27          27                                JSW Steel Ltd.   \n",
      "28          28                      Kotak Mahindra Bank Ltd.   \n",
      "29          29                          Larsen & Toubro Ltd.   \n",
      "30          30                      Mahindra & Mahindra Ltd.   \n",
      "31          31                      Maruti Suzuki India Ltd.   \n",
      "32          32                                     NTPC Ltd.   \n",
      "33          33                             Nestle India Ltd.   \n",
      "34          34            Oil & Natural Gas Corporation Ltd.   \n",
      "35          35          Power Grid Corporation of India Ltd.   \n",
      "36          36                      Reliance Industries Ltd.   \n",
      "37          37               SBI Life Insurance Company Ltd.   \n",
      "38          38                             Shree Cement Ltd.   \n",
      "39          39                           State Bank of India   \n",
      "40          40            Sun Pharmaceutical Industries Ltd.   \n",
      "41          41                Tata Consultancy Services Ltd.   \n",
      "42          42                   Tata Consumer Products Ltd.   \n",
      "43          43                              Tata Motors Ltd.   \n",
      "44          44                               Tata Steel Ltd.   \n",
      "45          45                            Tech Mahindra Ltd.   \n",
      "46          46                            Titan Company Ltd.   \n",
      "47          47                                      UPL Ltd.   \n",
      "48          48                         UltraTech Cement Ltd.   \n",
      "49          49                                    Wipro Ltd.   \n",
      "\n",
      "                    Industry      Symbol Series     ISIN Code   Yahoo_Symbol  \n",
      "0                   SERVICES  ADANIPORTS     EQ  INE742F01042  ADANIPORTS.NS  \n",
      "1             CONSUMER GOODS  ASIANPAINT     EQ  INE021A01026  ASIANPAINT.NS  \n",
      "2         FINANCIAL SERVICES    AXISBANK     EQ  INE238A01034    AXISBANK.NS  \n",
      "3                 AUTOMOBILE  BAJAJ-AUTO     EQ  INE917I01010  BAJAJ-AUTO.NS  \n",
      "4         FINANCIAL SERVICES  BAJFINANCE     EQ  INE296A01024  BAJFINANCE.NS  \n",
      "5         FINANCIAL SERVICES  BAJAJFINSV     EQ  INE918I01018  BAJAJFINSV.NS  \n",
      "6                  OIL & GAS        BPCL     EQ  INE029A01011        BPCL.NS  \n",
      "7                    TELECOM  BHARTIARTL     EQ  INE397D01024  BHARTIARTL.NS  \n",
      "8             CONSUMER GOODS   BRITANNIA     EQ  INE216A01030   BRITANNIA.NS  \n",
      "9                     PHARMA       CIPLA     EQ  INE059A01026       CIPLA.NS  \n",
      "10                    METALS   COALINDIA     EQ  INE522F01014   COALINDIA.NS  \n",
      "11                    PHARMA    DIVISLAB     EQ  INE361B01024    DIVISLAB.NS  \n",
      "12                    PHARMA     DRREDDY     EQ  INE089A01023     DRREDDY.NS  \n",
      "13                AUTOMOBILE   EICHERMOT     EQ  INE066A01021   EICHERMOT.NS  \n",
      "14  CEMENT & CEMENT PRODUCTS      GRASIM     EQ  INE047A01021      GRASIM.NS  \n",
      "15                        IT     HCLTECH     EQ  INE860A01027     HCLTECH.NS  \n",
      "16        FINANCIAL SERVICES    HDFCBANK     EQ  INE040A01034    HDFCBANK.NS  \n",
      "17        FINANCIAL SERVICES    HDFCLIFE     EQ  INE795G01014    HDFCLIFE.NS  \n",
      "18                AUTOMOBILE  HEROMOTOCO     EQ  INE158A01026  HEROMOTOCO.NS  \n",
      "19                    METALS    HINDALCO     EQ  INE038A01020    HINDALCO.NS  \n",
      "20            CONSUMER GOODS  HINDUNILVR     EQ  INE030A01027  HINDUNILVR.NS  \n",
      "21        FINANCIAL SERVICES        HDFC     EQ  INE001A01036        HDFC.NS  \n",
      "22        FINANCIAL SERVICES   ICICIBANK     EQ  INE090A01021   ICICIBANK.NS  \n",
      "23            CONSUMER GOODS         ITC     EQ  INE154A01025         ITC.NS  \n",
      "24                 OIL & GAS         IOC     EQ  INE242A01010         IOC.NS  \n",
      "25        FINANCIAL SERVICES  INDUSINDBK     EQ  INE095A01012  INDUSINDBK.NS  \n",
      "26                        IT        INFY     EQ  INE009A01021        INFY.NS  \n",
      "27                    METALS    JSWSTEEL     EQ  INE019A01038    JSWSTEEL.NS  \n",
      "28        FINANCIAL SERVICES   KOTAKBANK     EQ  INE237A01028   KOTAKBANK.NS  \n",
      "29              CONSTRUCTION          LT     EQ  INE018A01030          LT.NS  \n",
      "30                AUTOMOBILE         M&M     EQ  INE101A01026         M&M.NS  \n",
      "31                AUTOMOBILE      MARUTI     EQ  INE585B01010      MARUTI.NS  \n",
      "32                     POWER        NTPC     EQ  INE733E01010        NTPC.NS  \n",
      "33            CONSUMER GOODS   NESTLEIND     EQ  INE239A01016   NESTLEIND.NS  \n",
      "34                 OIL & GAS        ONGC     EQ  INE213A01029        ONGC.NS  \n",
      "35                     POWER   POWERGRID     EQ  INE752E01010   POWERGRID.NS  \n",
      "36                 OIL & GAS    RELIANCE     EQ  INE002A01018    RELIANCE.NS  \n",
      "37        FINANCIAL SERVICES     SBILIFE     EQ  INE123W01016     SBILIFE.NS  \n",
      "38  CEMENT & CEMENT PRODUCTS    SHREECEM     EQ  INE070A01015    SHREECEM.NS  \n",
      "39        FINANCIAL SERVICES        SBIN     EQ  INE062A01020        SBIN.NS  \n",
      "40                    PHARMA   SUNPHARMA     EQ  INE044A01036   SUNPHARMA.NS  \n",
      "41                        IT         TCS     EQ  INE467B01029         TCS.NS  \n",
      "42            CONSUMER GOODS  TATACONSUM     EQ  INE192A01025  TATACONSUM.NS  \n",
      "43                AUTOMOBILE  TATAMOTORS     EQ  INE155A01022  TATAMOTORS.NS  \n",
      "44                    METALS   TATASTEEL     EQ  INE081A01012   TATASTEEL.NS  \n",
      "45                        IT       TECHM     EQ  INE669C01036       TECHM.NS  \n",
      "46            CONSUMER GOODS       TITAN     EQ  INE280A01028       TITAN.NS  \n",
      "47  FERTILISERS & PESTICIDES         UPL     EQ  INE628A01036         UPL.NS  \n",
      "48  CEMENT & CEMENT PRODUCTS  ULTRACEMCO     EQ  INE481G01011  ULTRACEMCO.NS  \n",
      "49                        IT       WIPRO     EQ  INE075A01022       WIPRO.NS  \n"
     ]
    }
   ],
   "source": [
    "print(nifty_tickers)"
   ]
  },
  {
   "cell_type": "code",
   "execution_count": 12,
   "id": "94ad2ac3",
   "metadata": {},
   "outputs": [],
   "source": [
    "dF=pd.DataFrame([],columns=[\"a\",\"b\",\"c\"])"
   ]
  },
  {
   "cell_type": "code",
   "execution_count": 16,
   "id": "27e6b6bf",
   "metadata": {},
   "outputs": [
    {
     "name": "stdout",
     "output_type": "stream",
     "text": [
      "1053    1409.800049\n",
      "1054    1423.599976\n",
      "1055    1449.550049\n",
      "1056    1448.949951\n",
      "1057    1446.550049\n",
      "Name: Close, dtype: float64\n",
      "[1409.800048828125, 1423.599975585938, 1449.550048828125, 1448.949951171875, 1446.550048828125]\n"
     ]
    }
   ],
   "source": [
    "Close=df[-5:][\"Close\"]\n",
    "print(Close)\n",
    "c=Close.tolist()\n",
    "print(c)"
   ]
  },
  {
   "cell_type": "code",
   "execution_count": 13,
   "id": "a1963063",
   "metadata": {},
   "outputs": [
    {
     "name": "stdout",
     "output_type": "stream",
     "text": [
      "2\n"
     ]
    }
   ],
   "source": [
    "A=1\n",
    "B=A+1\n",
    "print(B)"
   ]
  },
  {
   "cell_type": "code",
   "execution_count": 18,
   "id": "7a5b1f92",
   "metadata": {},
   "outputs": [
    {
     "ename": "TypeError",
     "evalue": "must be real number, not list",
     "output_type": "error",
     "traceback": [
      "\u001b[1;31m---------------------------------------------------------------------------\u001b[0m",
      "\u001b[1;31mTypeError\u001b[0m                                 Traceback (most recent call last)",
      "\u001b[1;32m<ipython-input-18-d5992c144b51>\u001b[0m in \u001b[0;36m<module>\u001b[1;34m\u001b[0m\n\u001b[0;32m      1\u001b[0m \u001b[0ma\u001b[0m\u001b[1;33m=\u001b[0m\u001b[1;33m[\u001b[0m\u001b[1;36m2.119388374778\u001b[0m\u001b[1;33m,\u001b[0m\u001b[1;36m1.22\u001b[0m\u001b[1;33m]\u001b[0m\u001b[1;33m\u001b[0m\u001b[1;33m\u001b[0m\u001b[0m\n\u001b[1;32m----> 2\u001b[1;33m \u001b[0mprint\u001b[0m\u001b[1;33m(\u001b[0m\u001b[1;34m'%.2f'\u001b[0m\u001b[1;33m%\u001b[0m\u001b[0ma\u001b[0m\u001b[1;33m)\u001b[0m\u001b[1;33m\u001b[0m\u001b[1;33m\u001b[0m\u001b[0m\n\u001b[0m",
      "\u001b[1;31mTypeError\u001b[0m: must be real number, not list"
     ]
    }
   ],
   "source": [
    "a=[2.119388374778,1.22]\n",
    "print('%.2f'%a)"
   ]
  },
  {
   "cell_type": "code",
   "execution_count": 1,
   "id": "bb6095e6",
   "metadata": {},
   "outputs": [
    {
     "data": {
      "text/plain": [
       "1"
      ]
     },
     "execution_count": 1,
     "metadata": {},
     "output_type": "execute_result"
    }
   ],
   "source": [
    "min(1-3+5,1)"
   ]
  },
  {
   "cell_type": "code",
   "execution_count": null,
   "id": "591257d2",
   "metadata": {},
   "outputs": [],
   "source": []
  }
 ],
 "metadata": {
  "kernelspec": {
   "display_name": "Python 3",
   "language": "python",
   "name": "python3"
  },
  "language_info": {
   "codemirror_mode": {
    "name": "ipython",
    "version": 3
   },
   "file_extension": ".py",
   "mimetype": "text/x-python",
   "name": "python",
   "nbconvert_exporter": "python",
   "pygments_lexer": "ipython3",
   "version": "3.8.8"
  }
 },
 "nbformat": 4,
 "nbformat_minor": 5
}
