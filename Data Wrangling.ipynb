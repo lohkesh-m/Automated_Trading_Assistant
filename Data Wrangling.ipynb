{
 "cells": [
  {
   "cell_type": "code",
   "execution_count": 3,
   "id": "dacfa71b",
   "metadata": {},
   "outputs": [],
   "source": [
    "import pandas as pd\n",
    "nifty_file=pd.read_csv('Data/Watchlist.csv')\n",
    "nifty_file['Yahoo_Symbol']='Hello World'\n",
    "nifty_file.Yahoo_Symbol= nifty_file.Symbol + '.NS'\n",
    "nifty_file.to_csv('Data/Watchlist_yahoo_tickers.csv')"
   ]
  },
  {
   "cell_type": "code",
   "execution_count": null,
   "id": "bcb08629",
   "metadata": {},
   "outputs": [],
   "source": []
  }
 ],
 "metadata": {
  "kernelspec": {
   "display_name": "Python 3",
   "language": "python",
   "name": "python3"
  },
  "language_info": {
   "codemirror_mode": {
    "name": "ipython",
    "version": 3
   },
   "file_extension": ".py",
   "mimetype": "text/x-python",
   "name": "python",
   "nbconvert_exporter": "python",
   "pygments_lexer": "ipython3",
   "version": "3.8.8"
  }
 },
 "nbformat": 4,
 "nbformat_minor": 5
}
